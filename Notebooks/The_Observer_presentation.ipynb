{
 "cells": [
  {
   "cell_type": "markdown",
   "id": "a8fae5f2",
   "metadata": {
    "slideshow": {
     "slide_type": "slide"
    }
   },
   "source": [
    "# THE OBSERVER\n",
    "\n",
    "Project by: Andrew R. Darnall (a.y. 2022-2023)\n",
    "\n",
    "![logo](./img/The_Observer_candidate_2.png)"
   ]
  },
  {
   "cell_type": "markdown",
   "id": "d157c4df",
   "metadata": {
    "slideshow": {
     "slide_type": "subslide"
    }
   },
   "source": [
    "# What is the internet talking about ?"
   ]
  },
  {
   "cell_type": "markdown",
   "id": "ca2c2a10",
   "metadata": {
    "slideshow": {
     "slide_type": "subslide"
    }
   },
   "source": [
    "![meme](./img/confused_old_man.jpg)"
   ]
  },
  {
   "cell_type": "markdown",
   "id": "112cbdbb",
   "metadata": {
    "slideshow": {
     "slide_type": "subslide"
    }
   },
   "source": [
    "# How can we go about answering this question ?"
   ]
  },
  {
   "cell_type": "markdown",
   "id": "892d2207",
   "metadata": {
    "slideshow": {
     "slide_type": "subslide"
    }
   },
   "source": [
    "![answer](./img/social_medias.jpg)"
   ]
  },
  {
   "cell_type": "markdown",
   "id": "362fd34d",
   "metadata": {
    "slideshow": {
     "slide_type": "subslide"
    }
   },
   "source": [
    "# However not all APIs are freely accessible, and I am a broke Uni student ..."
   ]
  },
  {
   "cell_type": "markdown",
   "id": "1dff799c",
   "metadata": {
    "slideshow": {
     "slide_type": "subslide"
    }
   },
   "source": [
    "# Therefore I chose Mastodon as my datasource\n",
    "![mastodon](./img/mastodon_logo.png)"
   ]
  },
  {
   "cell_type": "markdown",
   "id": "4b45dcb4",
   "metadata": {
    "slideshow": {
     "slide_type": "subslide"
    }
   },
   "source": [
    "# What is the beauty of Mastodon?\n",
    "# It is a federated social network, much like Damus\n",
    "# Meaning every server belongs to the same federation (Social Network)\n",
    "# But can and usually is run indipendently from other servers\n",
    "# Basically containing a specific type of community, much like subreddits"
   ]
  },
  {
   "cell_type": "markdown",
   "id": "8917d085",
   "metadata": {
    "slideshow": {
     "slide_type": "subslide"
    }
   },
   "source": [
    "![universeodon](./img/universeodon.png)"
   ]
  },
  {
   "cell_type": "markdown",
   "id": "ea253903",
   "metadata": {
    "slideshow": {
     "slide_type": "subslide"
    }
   },
   "source": [
    "# But how can we collect the data? What about processing it?"
   ]
  },
  {
   "cell_type": "markdown",
   "id": "59147dd8",
   "metadata": {
    "slideshow": {
     "slide_type": "subslide"
    }
   },
   "source": [
    "# The solution: A Data Pipeline\n",
    "![data_pipeline](./img/data_pipeline.png)"
   ]
  },
  {
   "cell_type": "markdown",
   "id": "afc75a74",
   "metadata": {
    "slideshow": {
     "slide_type": "subslide"
    }
   },
   "source": [
    "# But, what kind of analytics can we apply to the incoming data?"
   ]
  },
  {
   "cell_type": "markdown",
   "id": "8db7a3aa",
   "metadata": {
    "slideshow": {
     "slide_type": "subslide"
    }
   },
   "source": [
    "# Answer: Several but I chose to conduct Topic Modelling\n",
    "![Topic_Modelling](./img/topic_modelling.png)"
   ]
  },
  {
   "cell_type": "markdown",
   "id": "a696a84b",
   "metadata": {
    "slideshow": {
     "slide_type": "subslide"
    }
   },
   "source": [
    "# But there are several ways to perform Topic Modelling\n",
    "# I.E. LDA\n",
    "# So which model did I choose?"
   ]
  },
  {
   "cell_type": "markdown",
   "id": "605e9b1e",
   "metadata": {
    "slideshow": {
     "slide_type": "subslide"
    }
   },
   "source": [
    "![BERT](./img/google-bert_ico.png)"
   ]
  },
  {
   "cell_type": "markdown",
   "id": "d28b21e1",
   "metadata": {
    "slideshow": {
     "slide_type": "subslide"
    }
   },
   "source": [
    "# Actually"
   ]
  },
  {
   "cell_type": "markdown",
   "id": "9710b7b3",
   "metadata": {
    "slideshow": {
     "slide_type": "subslide"
    }
   },
   "source": [
    "![BERTopic](./img/BERTopic.png)"
   ]
  },
  {
   "cell_type": "markdown",
   "id": "f05fe98d",
   "metadata": {
    "slideshow": {
     "slide_type": "subslide"
    }
   },
   "source": [
    "# PROS:\n",
    "## 1) Has lots of features\n",
    "## 2) Uses BERT\n",
    "## 3) Infers topics"
   ]
  },
  {
   "cell_type": "markdown",
   "id": "9b3bc43d",
   "metadata": {
    "slideshow": {
     "slide_type": "subslide"
    }
   },
   "source": [
    "# CONS:\n",
    "# 1) Needs a lot of data to be accurately trained\n",
    "# 2) Is incredibly slow when trained on a CPU-only machine"
   ]
  },
  {
   "cell_type": "markdown",
   "id": "faf458cf",
   "metadata": {
    "slideshow": {
     "slide_type": "subslide"
    }
   },
   "source": [
    "# BONUS\n",
    "## -It's funny\n",
    "\n",
    "![BERTopic_bias](./img/bertopic_bias.png)"
   ]
  },
  {
   "cell_type": "markdown",
   "id": "21cf2321",
   "metadata": {
    "slideshow": {
     "slide_type": "subslide"
    }
   },
   "source": [
    "# The Observer's Architecture\n",
    "![Architecture](./img/The_Observer_Architecture.png)"
   ]
  },
  {
   "cell_type": "markdown",
   "id": "f6fac92a",
   "metadata": {
    "slideshow": {
     "slide_type": "subslide"
    }
   },
   "source": [
    "# However"
   ]
  },
  {
   "cell_type": "markdown",
   "id": "0006d7db",
   "metadata": {
    "slideshow": {
     "slide_type": "subslide"
    }
   },
   "source": [
    "![RAM](./img/POV_8gb_RAM.png)"
   ]
  },
  {
   "cell_type": "markdown",
   "id": "8c2b962c",
   "metadata": {
    "slideshow": {
     "slide_type": "subslide"
    }
   },
   "source": [
    "# The Solution"
   ]
  },
  {
   "cell_type": "markdown",
   "id": "fe495323",
   "metadata": {
    "slideshow": {
     "slide_type": "subslide"
    }
   },
   "source": [
    "![google_cloud](./img/google_cloud.png)"
   ]
  },
  {
   "cell_type": "markdown",
   "id": "69e73ed5",
   "metadata": {
    "slideshow": {
     "slide_type": "subslide"
    }
   },
   "source": [
    "# Live Demo Time"
   ]
  }
 ],
 "metadata": {
  "celltoolbar": "Slideshow",
  "kernelspec": {
   "display_name": "Python 3 (ipykernel)",
   "language": "python",
   "name": "python3"
  },
  "language_info": {
   "codemirror_mode": {
    "name": "ipython",
    "version": 3
   },
   "file_extension": ".py",
   "mimetype": "text/x-python",
   "name": "python",
   "nbconvert_exporter": "python",
   "pygments_lexer": "ipython3",
   "version": "3.9.6"
  }
 },
 "nbformat": 4,
 "nbformat_minor": 5
}
